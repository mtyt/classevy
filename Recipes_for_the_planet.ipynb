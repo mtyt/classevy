{
  "cells": [
    {
      "cell_type": "markdown",
      "metadata": {
        "id": "view-in-github",
        "colab_type": "text"
      },
      "source": [
        "<a href=\"https://colab.research.google.com/github/mtyt/classevy/blob/main/Recipes_for_the_planet.ipynb\" target=\"_parent\"><img src=\"https://colab.research.google.com/assets/colab-badge.svg\" alt=\"Open In Colab\"/></a>"
      ]
    },
    {
      "cell_type": "markdown",
      "metadata": {
        "id": "hRh75ddLCGqg"
      },
      "source": [
        "# Our World In Data: Environmental Impacts of Food Production\n",
        "The brilliant [Our World In Data](https://ourworldindata.org) published an article that shows how what we eat impacts the environment. For a number of foods - I think about 200 - they collected the CO2 emissions, land use, water use, [eutrophication](https://en.wikipedia.org/wiki/Eutrophication) per kg but also per 100 g of protein, 100 g of fat and per 1000 kcal. This way, they created some interesting grahps which yield insights into which foods are better for the planet than others, and which are very bad ([BEEF!](https://ourworldindata.org/explorers/food-footprints?facet=none&hideControls=false&Commodity+or+Specific+Food+Product=Commodity&Environmental+Impact=Carbon+footprint&Kilogram+%2F+Protein+%2F+Calories=Per+kilogram&By+stage+of+supply+chain=false&country=Bananas~Beef+%28beef+herd%29~Beef+%28dairy+herd%29~Cheese~Eggs~Lamb+%26+Mutton~Milk~Maize~Nuts~Pig+Meat~Peas~Potatoes~Poultry+Meat~Rice~Tomatoes~Wheat+%26+Rye~Tofu+%28soybeans%29~Prawns+%28farmed%29)).\n",
        "\n",
        "However, this isn't a very practical way of deciding what you will eat for dinner tonight! You can think: \"oh perhaps I will have some beer and some peas!\" and then look up the environmental impact. But how many kilograms of beer and peas will you need for a healthy diet?\n",
        "That's where this Notebook comes in.\n",
        "I wanted to reverse the question and solve the problem: I want to consume just enough food to satisfy my nutritional needs (kcal, fat and protein) at the lowest environmental impact possible, what should I eat?\n",
        "\n",
        "In order to solve this question, I'm using a [genetic algorithm (GA)](https://en.wikipedia.org/wiki/Genetic_algorithm), which I implemented in a Python package, available on GitHub, called [`optime`](https://github.com/mtyt/optime), to optimize your diet towards minimal environmetal impact, while satisfying your healthy nutritional needs!\n",
        "\n",
        "- [First](#one-food), I will take a simplified case where you're going to eat only 1 type of food every day. Which food should it be to consume enough calories, fat and protein, while having the minimum environmental impact possible?\n",
        "\n",
        "- [Second](#all-food), we will use the power of all of the foods and combine them to find the ultimate recipe that satisfies our hunger while minimizing environmental impact!\n",
        "\n",
        "\n",
        "## How to use:\n",
        "If you are not familiar with Python, Jupyter Notebooks and/or Google Colab: no worries! You don't need to understand the code to execute it. Just hit the play-button on the left of each cell or hit shift-enter or click Runtime > Run all. If you're still having problems, don't hesitate to contact me for help.\n",
        "\n",
        "The first time running this Notebook after opening, it might take a while to install some dependencies. Please be patient!\n",
        "\n",
        "## Sources:\n",
        "- [Our World In Data: Environmental Impacts of Food Production](https://ourworldindata.org/environmental-impacts-of-food):\n",
        "Hannah Ritchie and Max Roser (2022) - \"Environmental Impacts of Food Production\". Published online at OurWorldInData.org.\n",
        "- Optime: a simple optimizer package, available on [GitHub](https://github.com/mtyt/optime)\n",
        "\n",
        "\n",
        "## Disclaimer\n",
        "Unfortunately, the data available on the website of OWID does not mention any sugar contents in any of the foods, so it's perfectly possible that the diets I'm proposing are actually life-threatening. So please don't use this Notebook as actual dietary advice!\n",
        "Also, I didn't look at cost.\n",
        "But, provide me the data and I'll add it to the equation!\n",
        "\n",
        "## About\n",
        "Do what you want with this Notebook but it would be nice if you mentioned it was made by Maarten Tytgat (maarten.tytgat@gmail.com), who has a website: www.futiledevices.be"
      ]
    },
    {
      "cell_type": "code",
      "execution_count": null,
      "metadata": {
        "id": "1Z_Ip13D0WVR"
      },
      "outputs": [],
      "source": [
        "# At every new Runtime, we unfortunately have to install some things. Don't worry,\n",
        "# this doesn't put anything on your computer, it's all in the cloud.\n",
        "!pip install --upgrade pip\n",
        "!pip install 'optime @ git+https://github.com/mtyt/optime@8439669e9028419082028c2c363bb264892dc9ff'"
      ]
    },
    {
      "cell_type": "code",
      "execution_count": null,
      "metadata": {
        "id": "I90ggvmwkcis"
      },
      "outputs": [],
      "source": [
        "# Some standard python stuff:\n",
        "from functools import partial\n",
        "import pandas as pd\n",
        "import re\n",
        "import numpy as np\n",
        "from functools import cached_property\n",
        "import matplotlib.pyplot as plt\n",
        "from optime.ga import Population, child"
      ]
    },
    {
      "cell_type": "code",
      "execution_count": null,
      "metadata": {
        "id": "lvR0JakauW3w"
      },
      "outputs": [],
      "source": [
        "# Loading the data and printing the first few lines.\n",
        "df = pd.read_csv(\"https://drive.google.com/uc?export=download&id=1B68Sg_OQblBxJkmqP3lLXSJ2C23tFEJy\")\n",
        "df = df.set_index('Entity')\n",
        "df[0:3]"
      ]
    },
    {
      "cell_type": "markdown",
      "metadata": {
        "id": "jWQF3hCOkuBR"
      },
      "source": [
        "# What should I eat to keep myself and the planet alive?\n",
        "According to some sources, a person needs 2000 kcal, 72g fat and 50g protein a day. If you think this is different for you, please go ahead and change the numbers before executing the cell (and the next cells).\n",
        "Again, note how the program does not care about your sugar intake!"
      ]
    },
    {
      "cell_type": "code",
      "execution_count": null,
      "metadata": {
        "id": "2COMc6rv0CIM"
      },
      "outputs": [],
      "source": [
        "target_kcal = 2000\n",
        "target_fat = 72\n",
        "target_protein = 50"
      ]
    },
    {
      "cell_type": "markdown",
      "metadata": {
        "id": "rFCewbCu0CIM"
      },
      "source": [
        "The original data only mentions the environmental impact (emissions, land use etc) per kg or kcal etc of food, but not the kcal/kg or fat/kg etc. Those can be obtained by dividing one number by the other. But I noticed that the results differ slightly depending on which criterium (Emissions, Land use, Eutrophication or Water withdrawals) I use.\n",
        "\n",
        "\n",
        "Different impact criteria yield different amount of nutrients per kg. Let's for example look at protein content for Ale:"
      ]
    },
    {
      "cell_type": "code",
      "execution_count": null,
      "metadata": {
        "id": "qy2Bct3D0CIN"
      },
      "outputs": [],
      "source": [
        "food = 'Ale'\n",
        "prot_1 = 100/df.at[food,'Emissions per 100 grams of protein']*df.at[food,'Emissions per kilogram']\n",
        "prot_2 = 100/df.at[food,'Eutrophication per 100 grams of protein']*df.at[food, 'Eutrophication per kilogram']\n",
        "print(f'grams of protein per kg of {food} based on Emissions = {prot_1}')\n",
        "print(f'grams of protein per kg of {food} based on Eutrophication = {prot_2}')"
      ]
    },
    {
      "cell_type": "markdown",
      "metadata": {
        "id": "n92qEI7T0CIN"
      },
      "source": [
        "So, I will take the average of the nutrient per kg as given by each of the criteria and use that from now on:"
      ]
    },
    {
      "cell_type": "code",
      "execution_count": null,
      "metadata": {
        "id": "DmnpGw1MoyzW"
      },
      "outputs": [],
      "source": [
        "criteria = ['Emissions', 'Land use', 'Eutrophication', 'Water withdrawals']\n",
        "nutrients = ['1000 kilocalories', '100 grams of protein', '100 grams of fat']\n",
        "\n",
        "new_cols = []\n",
        "for nut in nutrients:\n",
        "  for crit in criteria:\n",
        "    new_col = nut + '/kg based on ' + crit\n",
        "    new_cols.append(new_col)\n",
        "    df[new_col] = df[crit + ' per kilogram'] / df[crit + ' per ' + nut]\n",
        "  df[nut + '/kg'] = df[[(nut + '/kg based on ' + crit) for crit in criteria]].mean(axis='columns')\n",
        "print(\"Showing the new columns only, with the nutrients per kg based on the different criteria:\")\n",
        "df[new_cols]"
      ]
    },
    {
      "cell_type": "code",
      "execution_count": null,
      "metadata": {
        "id": "1hORHL0DqiLN"
      },
      "outputs": [],
      "source": [
        "print(\"Showing the new columns of the average nutrients per kg:\")\n",
        "df[[nut + '/kg' for nut in nutrients]]"
      ]
    },
    {
      "cell_type": "code",
      "execution_count": null,
      "metadata": {
        "id": "Jj2MqoJPwyOm"
      },
      "outputs": [],
      "source": [
        "# Now we don't need those new columns anymore and we'll just the average from now on.\n",
        "# Let's also remove some columns we won't use.\n",
        "remove_cols = new_cols + [\n",
        "    'Year',\n",
        "       'biodiversity_kg', 'biodiversity_1000kcal', 'biodiversity_100gprotein',\n",
        "       'biodiversity_100gfat'\n",
        "]\n",
        "df = df.drop(columns=remove_cols)\n",
        "df"
      ]
    },
    {
      "cell_type": "markdown",
      "metadata": {
        "id": "TMg-BBgE0CIO"
      },
      "source": [
        "# Preparation: define a recipe as a vector of kilograms per food\n",
        "Take a random vector of food masses per food and calculate the total nutritional value and environment impact. We'll re-use this function later on.\n",
        "The table shows for every food how many kilograms we have, and what is the nutritional value and environmental impact of that amount of food."
      ]
    },
    {
      "cell_type": "code",
      "execution_count": null,
      "metadata": {
        "id": "VeApcl3Ktcy9"
      },
      "outputs": [],
      "source": [
        "kg_vec = np.random.uniform(0,1,len(df)) # every food can have 0-1kg - no one said this was going to be a realistic example\n",
        "\n",
        "def df_recipe(kg_vec):\n",
        "    # copy the df and keep only the food names and nutrients and criteria, add a column for the kg vector,\n",
        "    # then calculate the total nutrients and env impact based on the kg value:\n",
        "    df_case = df[[nut + '/kg' for nut in nutrients]+[crit + ' per kilogram' for crit in criteria]].copy()\n",
        "    df_case['kg'] = kg_vec.tolist()\n",
        "    df_case['kcal'] = df_case['1000 kilocalories/kg']*df_case['kg']*1000\n",
        "    df_case['g protein'] = df_case['100 grams of protein/kg']*df_case['kg']*100\n",
        "    df_case['g fat'] = df_case['100 grams of fat/kg']*df_case['kg']*100\n",
        "\n",
        "    for crit in criteria:\n",
        "        df_case[crit] = df_case[crit + ' per kilogram']*df_case['kg']\n",
        "\n",
        "    # clean up the df, to contain only the data we want to see:\n",
        "    df_clean = df_case[['kg', 'kcal', 'g protein', 'g fat'] + criteria].copy()\n",
        "\n",
        "    return df_clean\n",
        "\n",
        "df_clean = df_recipe(kg_vec)\n",
        "df_clean"
      ]
    },
    {
      "cell_type": "markdown",
      "source": [
        "By summing the values in the columns, we can quickly see the total nutritional value and environmental impact if we were to eat the whole table."
      ],
      "metadata": {
        "id": "BesBTLK7f0cZ"
      }
    },
    {
      "cell_type": "code",
      "execution_count": null,
      "metadata": {
        "id": "CSxhm1GI8qxd"
      },
      "outputs": [],
      "source": [
        "df_clean.sum()"
      ]
    },
    {
      "cell_type": "markdown",
      "metadata": {
        "id": "hE_nZ6H-9O8L"
      },
      "source": [
        "<a name=\"one-food\"></a>\n",
        "# Case 1: You can only eat 1 type of food a day\n",
        "For any food, how many kg do you need in order to have enough, and what is the environmental impact?\n",
        "The only condition is that each nutrient is consumed at least as much as the recommended daily dose:\n",
        "- target_kcal = 2000\n",
        "- target_fat = 72\n",
        "- target_protein = 50\n",
        "\n",
        "(Or whatever you changed to numbers to)\n",
        "\n",
        "So we determine the amount of kg for each food based on this procedure:\n",
        "Calculate the kg you'd need to meet the target for each nutrient separately, then take the maximum. Note that the resulting table is not a list of everything we should eat in 1 day, but a list of how much we should eat of each food if we only ate that food that day!"
      ]
    },
    {
      "cell_type": "code",
      "execution_count": null,
      "metadata": {
        "id": "3N4Z4GI82D6k"
      },
      "outputs": [],
      "source": [
        "df_case_1_food = df.copy()\n",
        "# calculate an amount of kg you would need of the food to guarantee the recommended intake of kcal, protein and fat:\n",
        "df_case_1_food['mult_kcal'] = target_kcal/df_case_1_food['1000 kilocalories/kg']/1000\n",
        "df_case_1_food['mult_protein'] = target_protein/df_case_1_food['100 grams of protein/kg']/100\n",
        "df_case_1_food['mult_fat'] = target_fat/df_case_1_food['100 grams of fat/kg']/100\n",
        "# Take the max of the above 3 multipliers to ensure enough intake!\n",
        "kg_vec = df_case_1_food[['mult_kcal', 'mult_protein', 'mult_fat']].max(axis='columns')\n",
        "df_case_1_food['kg'] = kg_vec\n",
        "df_clean = df_recipe(kg_vec)\n",
        "print(\"The resulting DataFrame shows how much of each food (only that food) to eat daily, and the\\\n",
        " resulting nutrients and environmental impact:\")\n",
        "df_clean"
      ]
    },
    {
      "cell_type": "markdown",
      "metadata": {
        "id": "IUdfMQJc3I11"
      },
      "source": [
        "Note that thanks to its high fat contents, you'd only need to drink about 3 liters of beer to get your minimum requirements, versus more than 70 liters of wine!\n",
        "\n",
        "Since we restrict ourselves to only 1 food, there's not much flexibility in terms of balancing your calories, fat and protein intake. Neither is there any way to adjust the relative contributions to Emissions, Land use, Eutrophication and Water withdrawels.\n",
        "\n",
        "However, we can sort the results by one of the criteria in order to see which food we should eat (and only that food) to minimize our impact there:"
      ]
    },
    {
      "cell_type": "code",
      "execution_count": null,
      "metadata": {
        "id": "CjVLXInTBkMP"
      },
      "outputs": [],
      "source": [
        "crit = 'Emissions'\n",
        "print(f\"The DataFrame sorted by {crit}:\")\n",
        "df_clean.sort_values(crit)"
      ]
    },
    {
      "cell_type": "markdown",
      "metadata": {
        "id": "NYDObKaB4TLG"
      },
      "source": [
        "Turns out it's Almond butter for lowest Emissions! And you only need about 340 grams of it. Cheap! Unsuprisingly, Almonds come in close second. Actually you might wonder what the difference is. Anyhow. Let's also print the best foods in terms of other impact factors:"
      ]
    },
    {
      "cell_type": "code",
      "execution_count": null,
      "metadata": {
        "id": "SPIPx3nJ4n1i"
      },
      "outputs": [],
      "source": [
        "for crit in criteria:\n",
        "  row = df_clean.sort_values(crit).iloc[0]\n",
        "  print(f\"You only have to eat {row['kg']:.2} kg of {row.name} for miminum {crit}.\")"
      ]
    },
    {
      "cell_type": "markdown",
      "source": [
        "So that's interesting: Almonds, pumkin seeds and beans are pretty good for the environment. But, we have different optima for different impact criteria. Moreover, by eating only almond butter, you will eat a bit too much protein and too much fat! Surely we can do better by applying the art of throwing together a bunch of different ingredients!"
      ],
      "metadata": {
        "id": "Cizh1oiMxAqq"
      }
    },
    {
      "cell_type": "markdown",
      "metadata": {
        "id": "WfdvXkIdGET5"
      },
      "source": [
        "<a name=\"all-food\"></a>\n",
        "# Case 2: Optimize the food vector\n",
        "Can we find the ultimate food combination that satisfies our hunger and minizes environmental impact?\n",
        "We need to either weigh the 4 impact criteria, or consider them independently and look at the Pareto-optimum.\n",
        "When we compare a number of food-vectors:\n",
        "what are the non-dominated items? That means they are at least the best on 1 criterium and not worse on the others.\n",
        "\n",
        "Note that we could also optimize for low impact and high nutritional\n",
        "  value but those inherently conflict with each other. Increasing the total kg\n",
        "  value of a food vector will always increase its nutritional value but also\n",
        "  its environmental impact. Here, we're only interested in getting *just enough*\n",
        "  nutrition."
      ]
    },
    {
      "cell_type": "markdown",
      "metadata": {
        "id": "K4uZ5Arh0CIR"
      },
      "source": [
        "### Let's first make a class to define the food vector and its scores. Let's call it... Recipe!"
      ]
    },
    {
      "cell_type": "code",
      "execution_count": null,
      "metadata": {
        "id": "wxg8pI6y0CIR"
      },
      "outputs": [],
      "source": [
        "def col_to_var(col):\n",
        "    \"\"\"Function to turn a DataFrame column name into a variable name, replacing\n",
        "    capitals by lowercase and spaces by underscores.\n",
        "    \"\"\"\n",
        "    return re.sub('\\W|^(?=\\d)','_', col).lower()\n",
        "criteria_vars = [col_to_var(col) for col in criteria]\n",
        "\n",
        "# Little helper function to set smallest elements to 0:\n",
        "def keep_k_largest(vec, k):\n",
        "  \"\"\"In the vector vec, keep the k largest numners, set others to 0.\n",
        "  But vector keeps same length.\n",
        "  \"\"\"\n",
        "  if not isinstance(vec, np.ndarray):\n",
        "    vec = np.array(vec)\n",
        "  small_ind = np.argpartition(vec, -k)[:-k]\n",
        "  vec[small_ind] = 0\n",
        "  return vec\n",
        "\n",
        "class Recipe():\n",
        "    \"\"\" A Recipe will be the individual in the genetic algorithm. The best Recipe\n",
        "    is the one that has the lowest environmental impact and just enough nutritional\n",
        "    content.\n",
        "\n",
        "    A Recipe can be initialized without any arguments, in which case it will be\n",
        "    created with a random vector for kg values.\n",
        "    \"\"\"\n",
        "    def __init__(self, kg_vec=None, max_ingredients=None):\n",
        "        if kg_vec is None:\n",
        "            if max_ingredients:\n",
        "                vec_len = max_ingredients\n",
        "            else:\n",
        "                vec_len = len(df)\n",
        "            kg_vec = np.zeros(len(df))\n",
        "            # choose which indices will be assigned a value:\n",
        "            choisi = np.random.choice(np.arange(len(kg_vec)), vec_len, replace=False)\n",
        "            # I've manually finetuned the upper limit for kg_vec in order to get \n",
        "            # close to target nutrients for a random vector\n",
        "            kg_vec[choisi] = np.random.uniform(0,0.008*len(df)/vec_len, vec_len)\n",
        "        self.max_ingredients = max_ingredients\n",
        "        self.kg_vec = kg_vec # use the setter\n",
        "\n",
        "    @property\n",
        "    def kg_vec(self):\n",
        "        return self._kg_vec\n",
        "    \n",
        "    @kg_vec.setter\n",
        "    def kg_vec(self, x):\n",
        "        if self.max_ingredients:\n",
        "            # set the smallest values to zero, keeping only max_ingredients\n",
        "            x = keep_k_largest(x, self.max_ingredients)\n",
        "        self._kg_vec = x\n",
        "        # when the setter is called, these cached_property must be updated:\n",
        "        list_of_dependent_properties = ['df',\n",
        "                                        'summary',\n",
        "                                        'impact',\n",
        "                                        'nutrients',\n",
        "                                        'enough',\n",
        "                                        'not_enough'\n",
        "                                        ]\n",
        "        for prop in list_of_dependent_properties:\n",
        "            if prop in  self.__dict__:\n",
        "                delattr(self,prop)\n",
        "\n",
        "    @cached_property\n",
        "    def df(self):\n",
        "      # re-use function from above and sort by kg:\n",
        "      return df_recipe(self.kg_vec).sort_values('kg', ascending=False)\n",
        "    \n",
        "    @cached_property\n",
        "    def summary(self):\n",
        "        return self.df.sum()\n",
        "    \n",
        "    @cached_property\n",
        "    def impact(self):\n",
        "        return self.summary[criteria]\n",
        "    \n",
        "    def get_crit(self, crit):\n",
        "        return self.impact[crit]\n",
        "    \n",
        "    for crit, crit_var in zip(criteria, criteria_vars):\n",
        "        fget_crit = partial(get_crit, crit=crit)\n",
        "        vars()[crit_var] = property(fget=fget_crit)\n",
        "    \n",
        "    @cached_property\n",
        "    def nutrients(self):\n",
        "        return self.summary[['kcal', 'g protein', 'g fat']]\n",
        "    \n",
        "    @cached_property\n",
        "    def enough(self):\n",
        "        return all([(self.summary['kcal'] > target_kcal),\n",
        "                   (self.summary['g_protein'] > target_protein),\n",
        "                   (self.summary['g_fat'] > target_fat)\n",
        "                   ]\n",
        "                  )\n",
        "    @cached_property\n",
        "    def not_enough(self):\n",
        "        if self.enough:\n",
        "            return 0\n",
        "        else:\n",
        "            return 1\n",
        "        \n",
        "    @cached_property\n",
        "    def nutrient_score(self):\n",
        "        \"\"\" The nutrient score is 1 measure to check how far off the Recipe is from\n",
        "        the minimum requirements (target_kcal, target_protein, target_fat). It is\n",
        "        calculated as the sum of the relative deltas. So a value of 0 would mean\n",
        "        that each target is met. Negative values (means it's below target) on\n",
        "        seperate targets are multiplied by -1000 in order to force a high (bad) score.\n",
        "        \"\"\"\n",
        "        scores = [0,0,0]\n",
        "        scores[0] = (self.summary['kcal'] - target_kcal)/target_kcal\n",
        "        scores[1] = (self.summary['g protein'] - target_protein)/target_protein\n",
        "        scores[2] = (self.summary['g fat'] - target_fat)/target_fat\n",
        "        for i, score in enumerate(scores):\n",
        "            # heavily penalize negative scores:\n",
        "            if score<0:\n",
        "                scores[i] = -1000*score\n",
        "        return sum(scores)\n",
        "\n",
        "    # The optime Population requires an attribute called \"dna\" to exist on the\n",
        "    # class to be used as individuals in the Genetic Algorithm. For Recipe, this\n",
        "    # is just the kg_vec attribute:\n",
        "    dna = kg_vec"
      ]
    },
    {
      "cell_type": "markdown",
      "source": [
        "As an example, create a random Recipe with maximum 10 ingredients:"
      ],
      "metadata": {
        "id": "SaL_Uo8zMPn8"
      }
    },
    {
      "cell_type": "code",
      "execution_count": null,
      "metadata": {
        "id": "PEUTYGcc0CIR"
      },
      "outputs": [],
      "source": [
        "R1 = Recipe(max_ingredients=10)\n",
        "R1.df[:12]"
      ]
    },
    {
      "cell_type": "markdown",
      "source": [
        "Hmmm, that looks delicious!\n",
        "Just stir it all together and add some salt and pepper, but not too much or\n",
        "you'll mess with the environmental impact and nutritional value:"
      ],
      "metadata": {
        "id": "61uKrwvzM_bZ"
      }
    },
    {
      "cell_type": "code",
      "execution_count": null,
      "metadata": {
        "id": "IY_HMbZ60CIR"
      },
      "outputs": [],
      "source": [
        "R1.summary"
      ]
    },
    {
      "cell_type": "markdown",
      "source": [
        "## Then use `optime` to optimize it\n",
        "Now, we make a number of random `Recipe`s and use it as a starting population for the genetic algorithm. You can play with the `max_ingredients` parameter to limit your shopping time (set it to `None` - no maximum - if you feel adventurous!). Numbers lower than 15 generally don't yield very good results though. You gotta put in the work to save the planet!\n",
        "\n",
        "We define the goals for the optimization, basically minimize all the environmental impact + nutrient_score (defined as the sum of \n",
        "the relative differences to their targets - so 0 is perfectly on target!)"
      ],
      "metadata": {
        "id": "Z6rNPhIBOFGR"
      }
    },
    {
      "cell_type": "code",
      "execution_count": null,
      "metadata": {
        "id": "V7hPSWQq0CIS"
      },
      "outputs": [],
      "source": [
        "max_ingredients = 20\n",
        "\n",
        "recipes = [Recipe(max_ingredients=max_ingredients) for _ in np.arange(20)]\n",
        "pop = Population(recipes, goals_dict={\n",
        "                                    'emissions':{'direction':'min','target':0},\n",
        "                            'land_use':{'direction':'min','target':0},\n",
        "                            'eutrophication':{'direction':'min','target':0},\n",
        "                            'water_withdrawals':{'direction':'min','target':0},\n",
        "                            'nutrient_score':{'direction':'min','target':0}\n",
        "                                   })"
      ]
    },
    {
      "cell_type": "markdown",
      "source": [
        "Then, run the GA for a number of generations.\n",
        "We can play with the number of generations (1st argument), the mutation probability (`mutprob`) - set this to a low number like 0.02 or something, because it is the probability of a mutation in the vector, and it has 200 values so you don't want too many ingredients to mutate incontrollably!\n",
        "The `stop_on_steady_n` defines how many generations the mean and best values for each goal in the population must be constant before we decide it has converged.\n",
        "\n",
        "Depending on the number of generations, this can run for a few minutes or more.\n",
        "\n",
        "When the run is done, a plot is shown with the targets (0) and the mean and best values across the population for each goal (note that these don't occur within the same `Recipe` necessaririly) so we can check if there is convergence.\n",
        "The 'best' line can be hidden under the 'target' line for the nutrient_score - which is a good thing!"
      ],
      "metadata": {
        "id": "NbHqmqHPOmrx"
      }
    },
    {
      "cell_type": "code",
      "execution_count": null,
      "metadata": {
        "id": "MXYLxnep0CIT"
      },
      "outputs": [],
      "source": [
        "pop.run(100, mutprob=0.02, stop_on_steady_n=5, verbose=False)\n",
        "pop.plot_progress()"
      ]
    },
    {
      "cell_type": "markdown",
      "source": [
        "Let's look at the Pareto Front after the optimization. According to the algorithm, these are the best Recipes at the moment, based on the 5 independent\n",
        "optimization goals. Note that we didn't put a hard limit on nutritional value. Look at the nutrient_score: values < 1 are okay but higher values probably means at least 1 nutrient is below the target."
      ],
      "metadata": {
        "id": "tuc9YZOZRkTX"
      }
    },
    {
      "cell_type": "code",
      "source": [
        "best_recipes = pop.pareto().sort_values('nutrient_score', ascending=True)\n",
        "best_recipes"
      ],
      "metadata": {
        "id": "iArE_oQpRXzN"
      },
      "execution_count": null,
      "outputs": []
    },
    {
      "cell_type": "markdown",
      "source": [
        "We can arbitrarlity choose one of the Recipes above as the best, but let's just choose the one that does best for nutritional value - treat yo'self!"
      ],
      "metadata": {
        "id": "sm-a0XbAyUN4"
      }
    },
    {
      "cell_type": "code",
      "execution_count": null,
      "metadata": {
        "id": "fGp8qPWD0CIU"
      },
      "outputs": [],
      "source": [
        "chosen_recipe = best_recipes.iloc[0]['Individual']\n",
        "chosen_recipe.df[0:max_ingredients-1]"
      ]
    },
    {
      "cell_type": "code",
      "source": [
        "chosen_recipe.summary"
      ],
      "metadata": {
        "id": "mghqOHmuFbo7"
      },
      "execution_count": null,
      "outputs": []
    },
    {
      "cell_type": "markdown",
      "source": [
        "Let's compare the top 5 `Recipe`s and see of we can find a common ingredient there."
      ],
      "metadata": {
        "id": "D4PwGJ5fXiQq"
      }
    },
    {
      "cell_type": "code",
      "source": [
        "food_counter = []\n",
        "top_recipes_n = 5\n",
        "top_ingredients_n = 7\n",
        "for i, recipe in enumerate(best_recipes.iloc[:top_recipes_n]['Individual']):\n",
        "    print('\\nRecipe number: ', i+1)\n",
        "    print('Total values:')\n",
        "    display(recipe.summary)\n",
        "    print(f'Top {top_ingredients_n} ingredients (in kg):')\n",
        "    food_counter = food_counter + list(recipe.df.index[:top_ingredients_n].values)\n",
        "    print(recipe.df.index[:top_ingredients_n].values)"
      ],
      "metadata": {
        "id": "zB31ebWJXLtM"
      },
      "execution_count": null,
      "outputs": []
    },
    {
      "cell_type": "markdown",
      "source": [
        "Now we can count how many times each ingredient occurs in this hall of fame of recipes:"
      ],
      "metadata": {
        "id": "nsA-NuvbzWQW"
      }
    },
    {
      "cell_type": "code",
      "source": [
        "for food in set(food_counter):\n",
        "    print(food, 'occurs ', food_counter.count(food), 'times')"
      ],
      "metadata": {
        "id": "kcqQd-RJYxIk"
      },
      "execution_count": null,
      "outputs": []
    },
    {
      "cell_type": "markdown",
      "source": [
        "So, that's it!\n",
        "I don't know about your case, but for me, after onions, croissants appeared the most times! I was considering to go vegan, but now that I know that croissants are basically the second-best food to eat in order to save the planet, I will think again! I mean, I love onions, but not for breakfast..."
      ],
      "metadata": {
        "id": "oVZv_8f2bLkC"
      }
    }
  ],
  "metadata": {
    "colab": {
      "provenance": [],
      "toc_visible": true,
      "include_colab_link": true
    },
    "kernelspec": {
      "display_name": "Python 3 (ipykernel)",
      "language": "python",
      "name": "python3"
    },
    "language_info": {
      "codemirror_mode": {
        "name": "ipython",
        "version": 3
      },
      "file_extension": ".py",
      "mimetype": "text/x-python",
      "name": "python",
      "nbconvert_exporter": "python",
      "pygments_lexer": "ipython3",
      "version": "3.11.0"
    }
  },
  "nbformat": 4,
  "nbformat_minor": 0
}