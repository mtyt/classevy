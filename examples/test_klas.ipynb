{
 "cells": [
  {
   "cell_type": "code",
   "execution_count": 1,
   "id": "cf3063c5",
   "metadata": {},
   "outputs": [],
   "source": [
    "import numpy as np\n",
    "\n",
    "import matplotlib.pyplot as plt\n",
    "import pandas as pd\n",
    "\n",
    "from classevy.klas import StudentGroup, PlanPopulation, Plan"
   ]
  },
  {
   "cell_type": "code",
   "execution_count": 2,
   "id": "215d6fb5",
   "metadata": {},
   "outputs": [],
   "source": [
    "students = StudentGroup('../data/students.csv')"
   ]
  },
  {
   "cell_type": "code",
   "execution_count": 4,
   "id": "f94d73a7-cbc7-46a4-84ec-579316981cf1",
   "metadata": {},
   "outputs": [
    {
     "data": {
      "text/html": [
       "<div>\n",
       "<style scoped>\n",
       "    .dataframe tbody tr th:only-of-type {\n",
       "        vertical-align: middle;\n",
       "    }\n",
       "\n",
       "    .dataframe tbody tr th {\n",
       "        vertical-align: top;\n",
       "    }\n",
       "\n",
       "    .dataframe thead th {\n",
       "        text-align: right;\n",
       "    }\n",
       "</style>\n",
       "<table border=\"1\" class=\"dataframe\">\n",
       "  <thead>\n",
       "    <tr style=\"text-align: right;\">\n",
       "      <th></th>\n",
       "      <th>name</th>\n",
       "      <th>score_math</th>\n",
       "      <th>score_spelling</th>\n",
       "      <th>gender</th>\n",
       "      <th>learning_advantage</th>\n",
       "      <th>not_together</th>\n",
       "      <th>together</th>\n",
       "      <th>preferences</th>\n",
       "    </tr>\n",
       "    <tr>\n",
       "      <th>number</th>\n",
       "      <th></th>\n",
       "      <th></th>\n",
       "      <th></th>\n",
       "      <th></th>\n",
       "      <th></th>\n",
       "      <th></th>\n",
       "      <th></th>\n",
       "      <th></th>\n",
       "    </tr>\n",
       "  </thead>\n",
       "  <tbody>\n",
       "    <tr>\n",
       "      <th>1</th>\n",
       "      <td>luuk</td>\n",
       "      <td>10</td>\n",
       "      <td>8</td>\n",
       "      <td>1</td>\n",
       "      <td>1</td>\n",
       "      <td>(4,)</td>\n",
       "      <td>(2,)</td>\n",
       "      <td>(3, 6, 17)</td>\n",
       "    </tr>\n",
       "    <tr>\n",
       "      <th>2</th>\n",
       "      <td>pat</td>\n",
       "      <td>9</td>\n",
       "      <td>7</td>\n",
       "      <td>1</td>\n",
       "      <td>0</td>\n",
       "      <td>()</td>\n",
       "      <td>(1,)</td>\n",
       "      <td>(5, 9, 27)</td>\n",
       "    </tr>\n",
       "    <tr>\n",
       "      <th>3</th>\n",
       "      <td>jos</td>\n",
       "      <td>8</td>\n",
       "      <td>6</td>\n",
       "      <td>1</td>\n",
       "      <td>0</td>\n",
       "      <td>(6,)</td>\n",
       "      <td>()</td>\n",
       "      <td>(2, 1, 21)</td>\n",
       "    </tr>\n",
       "    <tr>\n",
       "      <th>4</th>\n",
       "      <td>pol</td>\n",
       "      <td>7</td>\n",
       "      <td>9</td>\n",
       "      <td>1</td>\n",
       "      <td>0</td>\n",
       "      <td>(1,)</td>\n",
       "      <td>()</td>\n",
       "      <td>(5, 6, 7)</td>\n",
       "    </tr>\n",
       "    <tr>\n",
       "      <th>5</th>\n",
       "      <td>katrien</td>\n",
       "      <td>6</td>\n",
       "      <td>7</td>\n",
       "      <td>-1</td>\n",
       "      <td>0</td>\n",
       "      <td>()</td>\n",
       "      <td>()</td>\n",
       "      <td>(6, 7, 23)</td>\n",
       "    </tr>\n",
       "    <tr>\n",
       "      <th>6</th>\n",
       "      <td>mo</td>\n",
       "      <td>5</td>\n",
       "      <td>5</td>\n",
       "      <td>1</td>\n",
       "      <td>0</td>\n",
       "      <td>(3, 8)</td>\n",
       "      <td>()</td>\n",
       "      <td>(12, 5, 25)</td>\n",
       "    </tr>\n",
       "  </tbody>\n",
       "</table>\n",
       "</div>"
      ],
      "text/plain": [
       "           name  score_math  score_spelling  gender  learning_advantage  \\\n",
       "number                                                                    \n",
       "1          luuk          10               8       1                   1   \n",
       "2           pat           9               7       1                   0   \n",
       "3           jos           8               6       1                   0   \n",
       "4           pol           7               9       1                   0   \n",
       "5       katrien           6               7      -1                   0   \n",
       "6            mo           5               5       1                   0   \n",
       "\n",
       "       not_together together  preferences  \n",
       "number                                     \n",
       "1              (4,)     (2,)   (3, 6, 17)  \n",
       "2                ()     (1,)   (5, 9, 27)  \n",
       "3              (6,)       ()   (2, 1, 21)  \n",
       "4              (1,)       ()    (5, 6, 7)  \n",
       "5                ()       ()   (6, 7, 23)  \n",
       "6            (3, 8)       ()  (12, 5, 25)  "
      ]
     },
     "execution_count": 4,
     "metadata": {},
     "output_type": "execute_result"
    }
   ],
   "source": [
    "students[:6]"
   ]
  },
  {
   "cell_type": "code",
   "execution_count": 5,
   "id": "41312907-d30f-400e-a461-c2c16983e060",
   "metadata": {},
   "outputs": [],
   "source": [
    "plan = Plan(students,2)"
   ]
  },
  {
   "cell_type": "code",
   "execution_count": 10,
   "id": "3e301ed1-e5c1-4a05-bffc-021fda180195",
   "metadata": {},
   "outputs": [
    {
     "name": "stdout",
     "output_type": "stream",
     "text": [
      "Mean classes_score_math per class: [6.666666666666667, 7.266666666666667]\n",
      "Spread of mean spread_score_math over classes: 0.2999999999999998\n",
      "Mean classes_score_spelling per class: [6.583333333333333, 6.733333333333333]\n",
      "Spread of mean spread_score_spelling over classes: 0.07500000000000018\n",
      "Mean classes_gender per class: [0.16666666666666666, 0.4666666666666667]\n",
      "Spread of mean spread_gender over classes: 0.15000000000000002\n",
      "Mean classes_learning_advantage per class: [0.08333333333333333, 0.0]\n",
      "Spread of mean spread_learning_advantage over classes: 0.041666666666666664\n"
     ]
    }
   ],
   "source": [
    "plan.print_summary()"
   ]
  },
  {
   "cell_type": "code",
   "execution_count": 11,
   "id": "33eced49",
   "metadata": {},
   "outputs": [
    {
     "data": {
      "text/plain": [
       "[1.0, 1.5]"
      ]
     },
     "execution_count": 11,
     "metadata": {},
     "output_type": "execute_result"
    }
   ],
   "source": [
    "def hypo_spread(num, classes):\n",
    "    '''Hypothetically assigning this num to one class or the other would result in which new spreads?\n",
    "    We want to assign it to the option which causes the smallest new spread.\n",
    "    '''\n",
    "    classes = [k if len(k) else [0] for k in classes]\n",
    "    mean_stds = [] # will contain all possible std when the num is added to a class\n",
    "    for c in classes:\n",
    "        classes_no_c = classes.copy()\n",
    "        classes_no_c.remove(c)\n",
    "        mean_stds.append(np.array([np.array(c0).mean() for c0 in classes_no_c]+[np.array(c+[num]).mean()]).std())\n",
    "    return mean_stds\n",
    "\n",
    "hypo_spread(1, [[-2, -2],[1, 1]])"
   ]
  },
  {
   "cell_type": "code",
   "execution_count": 44,
   "id": "fa776c90",
   "metadata": {},
   "outputs": [
    {
     "data": {
      "text/plain": [
       "-1"
      ]
     },
     "execution_count": 44,
     "metadata": {},
     "output_type": "execute_result"
    }
   ],
   "source": [
    "def biggest_impact(num_list, classes):\n",
    "    '''Which num in num_list has the biggest impact on the spread?\n",
    "    Pop it from the num_list\n",
    "    '''\n",
    "    classes = [k if len(k) else [0] for k in classes]\n",
    "    max_stds = []\n",
    "    for i, num in enumerate(num_list):\n",
    "        #print('num',num)\n",
    "        mean_stds = hypo_spread(num, classes)\n",
    "        #print('new hypo std', mean_stds)\n",
    "        max_stds.append(max(mean_stds))\n",
    "    #print('hypo stds:', mean_stds)\n",
    "    index = np.argmax(np.array(max_stds))\n",
    "    #print('pick', index)\n",
    "    return num_list.pop(index)\n",
    "\n",
    "biggest_impact([1, -1], [[1],[0]])"
   ]
  },
  {
   "cell_type": "code",
   "execution_count": 45,
   "id": "f70f2379",
   "metadata": {},
   "outputs": [
    {
     "data": {
      "text/plain": [
       "-2"
      ]
     },
     "execution_count": 45,
     "metadata": {},
     "output_type": "execute_result"
    }
   ],
   "source": [
    "def pop_absmax(l):\n",
    "    absmax = max([abs(i) for i in l])\n",
    "    if absmax in l:\n",
    "        m = absmax\n",
    "    elif -absmax in l:\n",
    "        m = -absmax\n",
    "    \n",
    "    index = l.index(m)\n",
    "    return l.pop(index)\n",
    "\n",
    "a = [1,-2]\n",
    "pop_absmax(a)"
   ]
  },
  {
   "cell_type": "code",
   "execution_count": 57,
   "id": "d146bec3",
   "metadata": {
    "scrolled": false
   },
   "outputs": [
    {
     "name": "stdout",
     "output_type": "stream",
     "text": [
      "means [nan, nan]\n",
      "num: 1\n",
      "means [1.0, nan]\n",
      "num: -1\n",
      "means [1.0, -1.0]\n",
      "num: 1\n",
      "means [1.0, 0.0]\n",
      "num: -1\n",
      "means [0.0, 0.0]\n",
      "num: 1\n",
      "means [0.3333333333333333, 0.0]\n",
      "num: -1\n",
      "means [0.0, 0.0]\n",
      "num: 1\n",
      "means [0.2, 0.0]\n",
      "num: -1\n",
      "means [0.0, 0.0]\n",
      "num: 1\n",
      "means [0.14285714285714285, 0.0]\n",
      "num: -1\n",
      "means [0.0, 0.0]\n",
      "num: 1\n",
      "means [0.1111111111111111, 0.0]\n",
      "num: -1\n",
      "means [0.0, 0.0]\n",
      "num: 1\n",
      "means [0.09090909090909091, 0.0]\n",
      "num: -1\n",
      "means [0.0, 0.0]\n",
      "num: 1\n",
      "means [0.07692307692307693, 0.0]\n",
      "num: -1\n",
      "means [0.0, 0.0]\n",
      "num: 1\n",
      "means [0.06666666666666667, 0.0]\n",
      "num: -1\n",
      "means [0.0, 0.0]\n",
      "num: 1\n",
      "means [0.058823529411764705, 0.0]\n",
      "num: 1\n",
      "means [0.1111111111111111, 0.0]\n",
      "num: 1\n",
      "means [0.15789473684210525, 0.0]\n",
      "num: 1\n",
      "means [0.15789473684210525, 0.3333333333333333]\n",
      "num: 1\n",
      "means [0.2, 0.3333333333333333]\n",
      "num: 1\n",
      "means [0.23809523809523808, 0.3333333333333333]\n",
      "num: 1\n",
      "means [0.2727272727272727, 0.3333333333333333]\n",
      "num: 1\n",
      "means [0.30434782608695654, 0.3333333333333333]\n",
      "num: 1\n",
      "means: [0.3333333333333333, 0.3333333333333333]\n",
      "spread: 0.0\n"
     ]
    },
    {
     "name": "stderr",
     "output_type": "stream",
     "text": [
      "/var/folders/ph/hfm4py7x2rq6pcdmtsszvfmh0000gn/T/ipykernel_30447/1767088126.py:6: RuntimeWarning: Mean of empty slice.\n",
      "  print('means', [np.array(c).mean() for c in classes])\n"
     ]
    }
   ],
   "source": [
    "def divide_one_prop(plan, prop):\n",
    "    num_list = list(plan.students[prop].values)\n",
    "    classes = [[] for _ in plan.classes]\n",
    "    for i in range(len(num_list)):\n",
    "\n",
    "        print('means', [np.array(c).mean() for c in classes])\n",
    "\n",
    "        # pick the number with the highest potential impact:\n",
    "        num = biggest_impact(num_list, classes)\n",
    "        print('num:', num)\n",
    "        # if any of the classes is still empty, add it there:\n",
    "        if not all([len(c) for c in classes]):\n",
    "            for c in classes:\n",
    "                if len(c) == 0:\n",
    "                    c.append(num)\n",
    "                    break\n",
    "        else:\n",
    "            #print('hypo new means', [np.array(c+[num]).mean() for c in classes])\n",
    "            mean_stds = hypo_spread(num, classes)\n",
    "            # now add the num to the class that results in the smallest std:\n",
    "            #print('mean_stds:', mean_stds)\n",
    "            index = np.argmin(np.array(mean_stds))\n",
    "            #print('picking', index)\n",
    "            classes[index].append(num)\n",
    "    means = [np.array(c).mean() if len(c) else 0 for c in classes]\n",
    "    spread = np.array(means).std()\n",
    "    return classes, means, spread\n",
    "classes, means, spread = divide_one_prop(plan, 'gender')\n",
    "\n",
    "print('means:', means)\n",
    "print('spread:', spread)"
   ]
  },
  {
   "cell_type": "code",
   "execution_count": null,
   "id": "03cd463f",
   "metadata": {},
   "outputs": [],
   "source": [
    "np.array(classes[0]).mean()"
   ]
  },
  {
   "cell_type": "code",
   "execution_count": null,
   "id": "f9889d22",
   "metadata": {},
   "outputs": [],
   "source": [
    "np.array(classes[1]).mean()"
   ]
  },
  {
   "cell_type": "code",
   "execution_count": null,
   "id": "84d0bdc3",
   "metadata": {},
   "outputs": [],
   "source": [
    "np.array(classes[0]+classes[1]).mean()"
   ]
  },
  {
   "cell_type": "code",
   "execution_count": null,
   "id": "431bbacc",
   "metadata": {},
   "outputs": [],
   "source": [
    "len(ordered)"
   ]
  },
  {
   "cell_type": "code",
   "execution_count": null,
   "id": "3785a1d2",
   "metadata": {},
   "outputs": [],
   "source": [
    "len(classes[0])"
   ]
  },
  {
   "cell_type": "code",
   "execution_count": null,
   "id": "f21f0be7",
   "metadata": {},
   "outputs": [],
   "source": [
    "len(classes[1])"
   ]
  },
  {
   "cell_type": "code",
   "execution_count": 26,
   "id": "96a24b40",
   "metadata": {},
   "outputs": [
    {
     "data": {
      "text/plain": [
       "[1,\n",
       " -1,\n",
       " 1,\n",
       " 0,\n",
       " 0,\n",
       " 0,\n",
       " 0,\n",
       " 0,\n",
       " 0,\n",
       " 0,\n",
       " 0,\n",
       " 0,\n",
       " 0,\n",
       " 0,\n",
       " 0,\n",
       " 0,\n",
       " 0,\n",
       " 0,\n",
       " 0,\n",
       " 0,\n",
       " 0,\n",
       " 0,\n",
       " 0,\n",
       " 0,\n",
       " 0,\n",
       " 0,\n",
       " 0]"
      ]
     },
     "execution_count": 26,
     "metadata": {},
     "output_type": "execute_result"
    }
   ],
   "source": [
    "classes[0]"
   ]
  },
  {
   "cell_type": "code",
   "execution_count": 27,
   "id": "5b9e3ab3",
   "metadata": {},
   "outputs": [
    {
     "data": {
      "text/plain": [
       "[]"
      ]
     },
     "execution_count": 27,
     "metadata": {},
     "output_type": "execute_result"
    }
   ],
   "source": [
    "classes[1]"
   ]
  },
  {
   "cell_type": "code",
   "execution_count": null,
   "id": "5b532107",
   "metadata": {},
   "outputs": [],
   "source": [
    "20/3"
   ]
  },
  {
   "cell_type": "code",
   "execution_count": 51,
   "id": "dc1c70fe",
   "metadata": {},
   "outputs": [
    {
     "data": {
      "text/plain": [
       "0.051282051282051266"
      ]
     },
     "execution_count": 51,
     "metadata": {},
     "output_type": "execute_result"
    }
   ],
   "source": [
    "np.array([4/12, 3/13]).std()"
   ]
  },
  {
   "cell_type": "code",
   "execution_count": 52,
   "id": "5a909eb9",
   "metadata": {},
   "outputs": [
    {
     "data": {
      "text/plain": [
       "0.07692307692307693"
      ]
     },
     "execution_count": 52,
     "metadata": {},
     "output_type": "execute_result"
    }
   ],
   "source": [
    "np.array([5/13, 3/13]).std()"
   ]
  },
  {
   "cell_type": "code",
   "execution_count": 53,
   "id": "81a4673a",
   "metadata": {},
   "outputs": [
    {
     "data": {
      "text/plain": [
       "0.023809523809523808"
      ]
     },
     "execution_count": 53,
     "metadata": {},
     "output_type": "execute_result"
    }
   ],
   "source": [
    "np.array([4/12, 4/14]).std()"
   ]
  },
  {
   "cell_type": "code",
   "execution_count": 54,
   "id": "de9f064b",
   "metadata": {},
   "outputs": [
    {
     "data": {
      "text/plain": [
       "0.0"
      ]
     },
     "execution_count": 54,
     "metadata": {},
     "output_type": "execute_result"
    }
   ],
   "source": [
    "np.array([4/12, 5/15]).std()"
   ]
  },
  {
   "cell_type": "code",
   "execution_count": null,
   "id": "51b477a6",
   "metadata": {},
   "outputs": [],
   "source": []
  }
 ],
 "metadata": {
  "kernelspec": {
   "display_name": "env-classevy",
   "language": "python",
   "name": "env-classevy"
  },
  "language_info": {
   "codemirror_mode": {
    "name": "ipython",
    "version": 3
   },
   "file_extension": ".py",
   "mimetype": "text/x-python",
   "name": "python",
   "nbconvert_exporter": "python",
   "pygments_lexer": "ipython3",
   "version": "3.11.0"
  }
 },
 "nbformat": 4,
 "nbformat_minor": 5
}
